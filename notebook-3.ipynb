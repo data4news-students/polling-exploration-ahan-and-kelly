{
 "cells": [
  {
   "cell_type": "markdown",
   "metadata": {},
   "source": [
    "# Python and R"
   ]
  },
  {
   "cell_type": "code",
   "execution_count": 1,
   "metadata": {},
   "outputs": [],
   "source": [
    "%load_ext rpy2.ipython\n",
    "%load_ext autoreload\n",
    "%autoreload 2\n",
    "\n",
    "%matplotlib inline  \n",
    "from matplotlib import rcParams\n",
    "rcParams['figure.figsize'] = (16, 100)\n",
    "\n",
    "import warnings\n",
    "from rpy2.rinterface import RRuntimeWarning\n",
    "warnings.filterwarnings(\"ignore\") # Ignore all warnings\n",
    "# warnings.filterwarnings(\"ignore\", category=RRuntimeWarning) # Show some warnings\n",
    "\n",
    "import pandas as pd\n",
    "import numpy as np\n",
    "import matplotlib.pyplot as plt\n",
    "from IPython.display import display, HTML\n",
    "\n",
    "# show all columns on pandas dataframes\n",
    "pd.set_option('display.max_columns', None)\n"
   ]
  },
  {
   "cell_type": "code",
   "execution_count": 2,
   "metadata": {},
   "outputs": [
    {
     "data": {
      "application/javascript": "// Disable auto-scrolling\nIPython.OutputArea.prototype._should_scroll = function(lines) {\n    return false;\n}\n",
      "text/plain": [
       "<IPython.core.display.Javascript object>"
      ]
     },
     "metadata": {},
     "output_type": "display_data"
    }
   ],
   "source": [
    "%%javascript\n",
    "// Disable auto-scrolling\n",
    "IPython.OutputArea.prototype._should_scroll = function(lines) {\n",
    "    return false;\n",
    "}"
   ]
  },
  {
   "cell_type": "code",
   "execution_count": 3,
   "metadata": {},
   "outputs": [
    {
     "name": "stderr",
     "output_type": "stream",
     "text": [
      "R[write to console]: Loading required package: tidyverse\n",
      "\n"
     ]
    },
    {
     "name": "stdout",
     "output_type": "stream",
     "text": [
      "── Attaching packages ─────────────────────────────────────── tidyverse 1.3.2 ──\n",
      "✔ ggplot2 3.4.0      ✔ purrr   1.0.1 \n",
      "✔ tibble  3.1.8      ✔ dplyr   1.0.10\n",
      "✔ tidyr   1.2.1      ✔ stringr 1.5.0 \n",
      "✔ readr   2.1.3      ✔ forcats 0.5.2 \n",
      "── Conflicts ────────────────────────────────────────── tidyverse_conflicts() ──\n",
      "✖ dplyr::filter() masks stats::filter()\n",
      "✖ dplyr::lag()    masks stats::lag()\n"
     ]
    }
   ],
   "source": [
    "%%R\n",
    "\n",
    "# My commonly used R imports\n",
    "\n",
    "require('tidyverse')\n",
    "require('readr')\n"
   ]
  },
  {
   "cell_type": "markdown",
   "metadata": {},
   "source": [
    "\n",
    "# Read the data\n",
    "\n"
   ]
  },
  {
   "cell_type": "markdown",
   "metadata": {},
   "source": [
    "The cell below loads the data in python:"
   ]
  },
  {
   "cell_type": "code",
   "execution_count": 4,
   "metadata": {},
   "outputs": [
    {
     "data": {
      "text/html": [
       "<div>\n",
       "<style scoped>\n",
       "    .dataframe tbody tr th:only-of-type {\n",
       "        vertical-align: middle;\n",
       "    }\n",
       "\n",
       "    .dataframe tbody tr th {\n",
       "        vertical-align: top;\n",
       "    }\n",
       "\n",
       "    .dataframe thead th {\n",
       "        text-align: right;\n",
       "    }\n",
       "</style>\n",
       "<table border=\"1\" class=\"dataframe\">\n",
       "  <thead>\n",
       "    <tr style=\"text-align: right;\">\n",
       "      <th></th>\n",
       "      <th>poll_id</th>\n",
       "      <th>question_id</th>\n",
       "      <th>race_id</th>\n",
       "      <th>year</th>\n",
       "      <th>race</th>\n",
       "      <th>location</th>\n",
       "      <th>type_simple</th>\n",
       "      <th>type_detail</th>\n",
       "      <th>pollster</th>\n",
       "      <th>pollster_rating_id</th>\n",
       "      <th>methodology</th>\n",
       "      <th>partisan</th>\n",
       "      <th>polldate</th>\n",
       "      <th>samplesize</th>\n",
       "      <th>cand1_name</th>\n",
       "      <th>cand1_id</th>\n",
       "      <th>cand1_party</th>\n",
       "      <th>cand1_pct</th>\n",
       "      <th>cand2_name</th>\n",
       "      <th>cand2_id</th>\n",
       "      <th>cand2_party</th>\n",
       "      <th>cand2_pct</th>\n",
       "      <th>cand3_pct</th>\n",
       "      <th>margin_poll</th>\n",
       "      <th>electiondate</th>\n",
       "      <th>cand1_actual</th>\n",
       "      <th>cand2_actual</th>\n",
       "      <th>margin_actual</th>\n",
       "      <th>bias</th>\n",
       "      <th>rightcall</th>\n",
       "      <th>comment</th>\n",
       "    </tr>\n",
       "  </thead>\n",
       "  <tbody>\n",
       "    <tr>\n",
       "      <th>312</th>\n",
       "      <td>63991</td>\n",
       "      <td>117768</td>\n",
       "      <td>7115</td>\n",
       "      <td>2000</td>\n",
       "      <td>2000_Pres-D_NH</td>\n",
       "      <td>NH</td>\n",
       "      <td>Pres-P</td>\n",
       "      <td>Pres-D</td>\n",
       "      <td>KRC Research</td>\n",
       "      <td>160</td>\n",
       "      <td>Live Phone</td>\n",
       "      <td>NaN</td>\n",
       "      <td>1/26/00</td>\n",
       "      <td>400.0</td>\n",
       "      <td>Al Gore</td>\n",
       "      <td>222</td>\n",
       "      <td>DEM</td>\n",
       "      <td>48.0</td>\n",
       "      <td>Bill Bradley</td>\n",
       "      <td>224</td>\n",
       "      <td>DEM</td>\n",
       "      <td>40.0</td>\n",
       "      <td>NaN</td>\n",
       "      <td>8.0</td>\n",
       "      <td>2/1/00</td>\n",
       "      <td>49.73</td>\n",
       "      <td>45.59</td>\n",
       "      <td>4.14</td>\n",
       "      <td>NaN</td>\n",
       "      <td>1.0</td>\n",
       "      <td>NaN</td>\n",
       "    </tr>\n",
       "    <tr>\n",
       "      <th>167</th>\n",
       "      <td>54260</td>\n",
       "      <td>87796</td>\n",
       "      <td>1440</td>\n",
       "      <td>1998</td>\n",
       "      <td>1998_Gov-G_GA</td>\n",
       "      <td>GA</td>\n",
       "      <td>Gov-G</td>\n",
       "      <td>Gov-G</td>\n",
       "      <td>Marketing Workshop</td>\n",
       "      <td>194</td>\n",
       "      <td>Live Phone</td>\n",
       "      <td>NaN</td>\n",
       "      <td>10/26/98</td>\n",
       "      <td>709.0</td>\n",
       "      <td>Roy Barnes</td>\n",
       "      <td>13031</td>\n",
       "      <td>DEM</td>\n",
       "      <td>40.0</td>\n",
       "      <td>Guy Millner</td>\n",
       "      <td>13032</td>\n",
       "      <td>REP</td>\n",
       "      <td>45.0</td>\n",
       "      <td>NaN</td>\n",
       "      <td>-5.0</td>\n",
       "      <td>11/3/98</td>\n",
       "      <td>52.49</td>\n",
       "      <td>44.08</td>\n",
       "      <td>8.42</td>\n",
       "      <td>-13.42</td>\n",
       "      <td>0.0</td>\n",
       "      <td>NaN</td>\n",
       "    </tr>\n",
       "    <tr>\n",
       "      <th>3204</th>\n",
       "      <td>24818</td>\n",
       "      <td>88986</td>\n",
       "      <td>1342</td>\n",
       "      <td>2006</td>\n",
       "      <td>2006_Gov-G_MD</td>\n",
       "      <td>MD</td>\n",
       "      <td>Gov-G</td>\n",
       "      <td>Gov-G</td>\n",
       "      <td>SurveyUSA</td>\n",
       "      <td>325</td>\n",
       "      <td>IVR</td>\n",
       "      <td>NaN</td>\n",
       "      <td>11/4/06</td>\n",
       "      <td>663.0</td>\n",
       "      <td>Martin O'Malley</td>\n",
       "      <td>12704</td>\n",
       "      <td>DEM</td>\n",
       "      <td>50.0</td>\n",
       "      <td>Robert Ehrlich Jr.</td>\n",
       "      <td>12703</td>\n",
       "      <td>REP</td>\n",
       "      <td>47.0</td>\n",
       "      <td>1.0</td>\n",
       "      <td>3.0</td>\n",
       "      <td>11/7/06</td>\n",
       "      <td>52.69</td>\n",
       "      <td>46.16</td>\n",
       "      <td>6.53</td>\n",
       "      <td>-3.53</td>\n",
       "      <td>1.0</td>\n",
       "      <td>NaN</td>\n",
       "    </tr>\n",
       "    <tr>\n",
       "      <th>4886</th>\n",
       "      <td>64252</td>\n",
       "      <td>118230</td>\n",
       "      <td>1804</td>\n",
       "      <td>2009</td>\n",
       "      <td>2009_House-GS_NY-20</td>\n",
       "      <td>NY-20</td>\n",
       "      <td>House-G</td>\n",
       "      <td>House-GS</td>\n",
       "      <td>Siena College</td>\n",
       "      <td>305</td>\n",
       "      <td>Live Phone</td>\n",
       "      <td>NaN</td>\n",
       "      <td>3/26/09</td>\n",
       "      <td>917.0</td>\n",
       "      <td>Scott Murphy</td>\n",
       "      <td>14314</td>\n",
       "      <td>DEM</td>\n",
       "      <td>47.0</td>\n",
       "      <td>James Nicholas Tedisco</td>\n",
       "      <td>14315</td>\n",
       "      <td>REP</td>\n",
       "      <td>43.0</td>\n",
       "      <td>NaN</td>\n",
       "      <td>4.0</td>\n",
       "      <td>3/31/09</td>\n",
       "      <td>50.23</td>\n",
       "      <td>49.77</td>\n",
       "      <td>0.45</td>\n",
       "      <td>3.55</td>\n",
       "      <td>1.0</td>\n",
       "      <td>NaN</td>\n",
       "    </tr>\n",
       "    <tr>\n",
       "      <th>10332</th>\n",
       "      <td>72605</td>\n",
       "      <td>136253</td>\n",
       "      <td>6221</td>\n",
       "      <td>2020</td>\n",
       "      <td>2020_Pres-G_GA</td>\n",
       "      <td>GA</td>\n",
       "      <td>Pres-G</td>\n",
       "      <td>Pres-G</td>\n",
       "      <td>Morning Consult</td>\n",
       "      <td>218</td>\n",
       "      <td>Online</td>\n",
       "      <td>NaN</td>\n",
       "      <td>10/27/20</td>\n",
       "      <td>1743.0</td>\n",
       "      <td>Joseph R. Biden Jr.</td>\n",
       "      <td>13256</td>\n",
       "      <td>DEM</td>\n",
       "      <td>48.8</td>\n",
       "      <td>Donald Trump</td>\n",
       "      <td>13254</td>\n",
       "      <td>REP</td>\n",
       "      <td>46.4</td>\n",
       "      <td>NaN</td>\n",
       "      <td>2.4</td>\n",
       "      <td>11/3/20</td>\n",
       "      <td>49.47</td>\n",
       "      <td>49.24</td>\n",
       "      <td>0.24</td>\n",
       "      <td>2.16</td>\n",
       "      <td>1.0</td>\n",
       "      <td>NaN</td>\n",
       "    </tr>\n",
       "  </tbody>\n",
       "</table>\n",
       "</div>"
      ],
      "text/plain": [
       "       poll_id  question_id  race_id  year                 race location  \\\n",
       "312      63991       117768     7115  2000       2000_Pres-D_NH       NH   \n",
       "167      54260        87796     1440  1998        1998_Gov-G_GA       GA   \n",
       "3204     24818        88986     1342  2006        2006_Gov-G_MD       MD   \n",
       "4886     64252       118230     1804  2009  2009_House-GS_NY-20    NY-20   \n",
       "10332    72605       136253     6221  2020       2020_Pres-G_GA       GA   \n",
       "\n",
       "      type_simple type_detail            pollster  pollster_rating_id  \\\n",
       "312        Pres-P      Pres-D        KRC Research                 160   \n",
       "167         Gov-G       Gov-G  Marketing Workshop                 194   \n",
       "3204        Gov-G       Gov-G           SurveyUSA                 325   \n",
       "4886      House-G    House-GS       Siena College                 305   \n",
       "10332      Pres-G      Pres-G     Morning Consult                 218   \n",
       "\n",
       "      methodology partisan  polldate  samplesize           cand1_name  \\\n",
       "312    Live Phone      NaN   1/26/00       400.0              Al Gore   \n",
       "167    Live Phone      NaN  10/26/98       709.0           Roy Barnes   \n",
       "3204          IVR      NaN   11/4/06       663.0      Martin O'Malley   \n",
       "4886   Live Phone      NaN   3/26/09       917.0         Scott Murphy   \n",
       "10332      Online      NaN  10/27/20      1743.0  Joseph R. Biden Jr.   \n",
       "\n",
       "       cand1_id cand1_party  cand1_pct              cand2_name  cand2_id  \\\n",
       "312         222         DEM       48.0            Bill Bradley       224   \n",
       "167       13031         DEM       40.0             Guy Millner     13032   \n",
       "3204      12704         DEM       50.0      Robert Ehrlich Jr.     12703   \n",
       "4886      14314         DEM       47.0  James Nicholas Tedisco     14315   \n",
       "10332     13256         DEM       48.8            Donald Trump     13254   \n",
       "\n",
       "      cand2_party  cand2_pct  cand3_pct  margin_poll electiondate  \\\n",
       "312           DEM       40.0        NaN          8.0       2/1/00   \n",
       "167           REP       45.0        NaN         -5.0      11/3/98   \n",
       "3204          REP       47.0        1.0          3.0      11/7/06   \n",
       "4886          REP       43.0        NaN          4.0      3/31/09   \n",
       "10332         REP       46.4        NaN          2.4      11/3/20   \n",
       "\n",
       "       cand1_actual  cand2_actual  margin_actual   bias  rightcall comment  \n",
       "312           49.73         45.59           4.14    NaN        1.0     NaN  \n",
       "167           52.49         44.08           8.42 -13.42        0.0     NaN  \n",
       "3204          52.69         46.16           6.53  -3.53        1.0     NaN  \n",
       "4886          50.23         49.77           0.45   3.55        1.0     NaN  \n",
       "10332         49.47         49.24           0.24   2.16        1.0     NaN  "
      ]
     },
     "execution_count": 4,
     "metadata": {},
     "output_type": "execute_result"
    }
   ],
   "source": [
    "df = pd.read_csv('raw-polls.csv')\n",
    "df.sample(5)"
   ]
  },
  {
   "cell_type": "markdown",
   "metadata": {},
   "source": [
    "The cell below loads the same data in R:"
   ]
  },
  {
   "cell_type": "code",
   "execution_count": 5,
   "metadata": {},
   "outputs": [
    {
     "name": "stdout",
     "output_type": "stream",
     "text": [
      "Rows: 10776 Columns: 31\n",
      "── Column specification ────────────────────────────────────────────────────────\n",
      "Delimiter: \",\"\n",
      "chr (14): race, location, type_simple, type_detail, pollster, methodology, p...\n",
      "dbl (17): poll_id, question_id, race_id, year, pollster_rating_id, samplesiz...\n",
      "\n",
      "ℹ Use `spec()` to retrieve the full column specification for this data.\n",
      "ℹ Specify the column types or set `show_col_types = FALSE` to quiet this message.\n",
      "# A tibble: 10,776 × 31\n",
      "   poll_id questio…¹ race_id  year race  locat…² type_…³ type_…⁴ polls…⁵ polls…⁶\n",
      "     <dbl>     <dbl>   <dbl> <dbl> <chr> <chr>   <chr>   <chr>   <chr>     <dbl>\n",
      " 1   26013     87909    1455  1998 1998… NY      Gov-G   Gov-G   Blum &…      32\n",
      " 2   26255     87926    1456  1998 1998… OH      Gov-G   Gov-G   Univer…     346\n",
      " 3   26026     31266    1736  1998 1998… NV      Sen-G   Sen-G   FM3 Re…      91\n",
      " 4   26013     31253    1738  1998 1998… NY      Sen-G   Sen-G   Blum &…      32\n",
      " 5   63632    117103    1738  1998 1998… NY      Sen-G   Sen-G   Garin-…     113\n",
      " 6   26255     31495    1741  1998 1998… OH      Sen-G   Sen-G   Univer…     346\n",
      " 7   64053    117875    1966  1998 1998… ID-1    House-G House-G Garin-…     113\n",
      " 8   64053    117876    1967  1998 1998… ID-2    House-G House-G Garin-…     113\n",
      " 9   28268     33546    8661  1998 1998… US      House-G House-G CBS Ne…      36\n",
      "10   28267     33545    8661  1998 1998… US      House-G House-G Zogby …     395\n",
      "# … with 10,766 more rows, 21 more variables: methodology <chr>,\n",
      "#   partisan <chr>, polldate <chr>, samplesize <dbl>, cand1_name <chr>,\n",
      "#   cand1_id <dbl>, cand1_party <chr>, cand1_pct <dbl>, cand2_name <chr>,\n",
      "#   cand2_id <dbl>, cand2_party <chr>, cand2_pct <dbl>, cand3_pct <dbl>,\n",
      "#   margin_poll <dbl>, electiondate <chr>, cand1_actual <dbl>,\n",
      "#   cand2_actual <dbl>, margin_actual <dbl>, bias <dbl>, rightcall <dbl>,\n",
      "#   comment <chr>, and abbreviated variable names ¹​question_id, ²​location, …\n",
      "# ℹ Use `print(n = ...)` to see more rows, and `colnames()` to see all variable names\n"
     ]
    }
   ],
   "source": [
    "%%R\n",
    "\n",
    "df <- read_csv('raw-polls.csv')\n",
    "\n",
    "df"
   ]
  },
  {
   "cell_type": "markdown",
   "metadata": {},
   "source": [
    "# Guided Exploration\n",
    "\n",
    "In this section you'll make a few charts to explore the data. Here I will raise some questions for you to dig around in the data and answer. You can use summary statistics and/or charts to help answer the questions. You will have to make some methodological choices along the way. Be aware of what choices you're making! I'll ask you about them shortly.\n",
    "\n",
    "\n",
    "## Question 1: How accurate are polls from the following pollsters?\n",
    "Characterize the accuracy of each of these pollsters in a sentence or two. Then, write another few sentences justifying your characterization with insights from the data.\n",
    "- Siena College/The New York Times Upshot\n",
    "- Jayhawk Consulting\n",
    "- Fox News/Beacon Research/Shaw & Co. Research\n",
    "- Brown University\n",
    "- American Research Group\n"
   ]
  },
  {
   "cell_type": "markdown",
   "metadata": {},
   "source": [
    "👉 **Siena College/The New York Times Upshot** "
   ]
  },
  {
   "cell_type": "code",
   "execution_count": 9,
   "metadata": {},
   "outputs": [
    {
     "name": "stdout",
     "output_type": "stream",
     "text": [
      "# A tibble: 83 × 31\n",
      "   poll_id questio…¹ race_id  year race  locat…² type_…³ type_…⁴ polls…⁵ polls…⁶\n",
      "     <dbl>     <dbl>   <dbl> <dbl> <chr> <chr>   <chr>   <chr>   <chr>     <dbl>\n",
      " 1   47325     74070      52  2016 2016… NC      Gov-G   Gov-G   Siena …     448\n",
      " 2   47325     74050      62  2016 2016… NC      Sen-G   Sen-G   Siena …     448\n",
      " 3   47325     74047     629  2016 2016… NC      Pres-G  Pres-G  Siena …     448\n",
      " 4   47551     74389      86  2016 2016… PA      Sen-G   Sen-G   Siena …     448\n",
      " 5   47551     74387     640  2016 2016… PA      Pres-G  Pres-G  Siena …     448\n",
      " 6   47771     74777      93  2016 2016… FL      Sen-G   Sen-G   Siena …     448\n",
      " 7   47771     74762     611  2016 2016… FL      Pres-G  Pres-G  Siena …     448\n",
      " 8   48524     76188      52  2016 2016… NC      Gov-G   Gov-G   Siena …     448\n",
      " 9   48524     76067      62  2016 2016… NC      Sen-G   Sen-G   Siena …     448\n",
      "10   48524     76066     629  2016 2016… NC      Pres-G  Pres-G  Siena …     448\n",
      "# … with 73 more rows, 21 more variables: methodology <chr>, partisan <chr>,\n",
      "#   polldate <chr>, samplesize <dbl>, cand1_name <chr>, cand1_id <dbl>,\n",
      "#   cand1_party <chr>, cand1_pct <dbl>, cand2_name <chr>, cand2_id <dbl>,\n",
      "#   cand2_party <chr>, cand2_pct <dbl>, cand3_pct <dbl>, margin_poll <dbl>,\n",
      "#   electiondate <chr>, cand1_actual <dbl>, cand2_actual <dbl>,\n",
      "#   margin_actual <dbl>, bias <dbl>, rightcall <dbl>, comment <chr>, and\n",
      "#   abbreviated variable names ¹​question_id, ²​location, ³​type_simple, …\n",
      "# ℹ Use `print(n = ...)` to see more rows, and `colnames()` to see all variable names\n"
     ]
    }
   ],
   "source": [
    "%%R\n",
    "\n",
    "# make df with Siena College and NYT Upshot\n",
    "\n",
    "siena_df <- df %>% filter(pollster=='Siena College/The New York Times Upshot')\n",
    "\n",
    "siena_df"
   ]
  },
  {
   "cell_type": "code",
   "execution_count": 23,
   "metadata": {},
   "outputs": [
    {
     "data": {
      "image/png": "[encoded data removed]"
     },
     "metadata": {},
     "output_type": "display_data"
    }
   ],
   "source": [
    "%%R -h 500\n",
    "\n",
    "siena_df_pres_general <- siena_df %>% \n",
    "    filter(type_simple=='Pres-G') # Filter data to polls in presidential general elections only\n",
    "# plot the `bias` variable, which shows how far away from the \n",
    "# actual result each poll's result was...\n",
    "ggplot(siena_df_pres_general) +\n",
    "    aes(x=bias, y=year, color=bias>0, alpha=.05) + \n",
    "    geom_point() +\n",
    "    geom_vline(aes(xintercept=0), color='red')  +\n",
    "    labs(\n",
    "        title='Inaccuracy of polls in presidential elections',\n",
    "        subtitle=\"positive numbers = polls overestimated DEM support\\nnegative numbers= polls overestimated GOP support\"\n",
    "    ) + \n",
    "    theme(legend.position=\"none\")\n"
   ]
  },
  {
   "attachments": {},
   "cell_type": "markdown",
   "metadata": {},
   "source": [
    " The Upshot's Presidential polls leaned further Democrat in 2020 and 2016"
   ]
  },
  {
   "cell_type": "code",
   "execution_count": 16,
   "metadata": {},
   "outputs": [
    {
     "data": {
      "image/png": "[encoded data removed]"
     },
     "metadata": {},
     "output_type": "display_data"
    }
   ],
   "source": [
    "%%R\n",
    "# a basic histogram\n",
    "ggplot(siena_df) +\n",
    "    aes(x=bias) +\n",
    "    geom_histogram(bins=30) +\n",
    "    geom_vline(aes(xintercept=0), color='red') +\n",
    "    labs(\n",
    "        title='Inaccuracy of polls in presidential elections',\n",
    "        subtitle=\"positive numbers = polls overestimated DEM support\\nnegative numbers= polls overestimated GOP support\",\n",
    "        )"
   ]
  },
  {
   "cell_type": "code",
   "execution_count": 14,
   "metadata": {},
   "outputs": [
    {
     "name": "stdout",
     "output_type": "stream",
     "text": [
      "   Min. 1st Qu.  Median    Mean 3rd Qu.    Max.    NA's \n",
      "-15.010  -2.075   1.515   1.423   5.125  11.200       1 \n"
     ]
    }
   ],
   "source": [
    "%%R \n",
    "\n",
    "siena_df$bias  %>% summary()\n",
    "\n",
    "# slight democrat bias"
   ]
  },
  {
   "cell_type": "markdown",
   "metadata": {},
   "source": [
    "👉 **Jayhawk Consulting**"
   ]
  },
  {
   "cell_type": "code",
   "execution_count": 26,
   "metadata": {},
   "outputs": [
    {
     "name": "stdout",
     "output_type": "stream",
     "text": [
      "# A tibble: 2 × 31\n",
      "  poll_id question…¹ race_id  year race  locat…² type_…³ type_…⁴ polls…⁵ polls…⁶\n",
      "    <dbl>      <dbl>   <dbl> <dbl> <chr> <chr>   <chr>   <chr>   <chr>     <dbl>\n",
      "1   36081      49015    5495  2014 2014… KS-1    House-G House-G Jayhaw…     157\n",
      "2   56550      90986     330  2018 2018… KS-1    House-G House-G Jayhaw…     157\n",
      "# … with 21 more variables: methodology <chr>, partisan <chr>, polldate <chr>,\n",
      "#   samplesize <dbl>, cand1_name <chr>, cand1_id <dbl>, cand1_party <chr>,\n",
      "#   cand1_pct <dbl>, cand2_name <chr>, cand2_id <dbl>, cand2_party <chr>,\n",
      "#   cand2_pct <dbl>, cand3_pct <dbl>, margin_poll <dbl>, electiondate <chr>,\n",
      "#   cand1_actual <dbl>, cand2_actual <dbl>, margin_actual <dbl>, bias <dbl>,\n",
      "#   rightcall <dbl>, comment <chr>, and abbreviated variable names\n",
      "#   ¹​question_id, ²​location, ³​type_simple, ⁴​type_detail, ⁵​pollster, …\n",
      "# ℹ Use `colnames()` to see all variable names\n"
     ]
    }
   ],
   "source": [
    "%%R\n",
    "\n",
    "# make df with Jawhawk \n",
    "\n",
    "jayhawk_df <- df %>% filter(pollster=='Jayhawk Consulting Services')\n",
    "\n",
    "jayhawk_df"
   ]
  },
  {
   "cell_type": "code",
   "execution_count": 29,
   "metadata": {},
   "outputs": [
    {
     "data": {
      "image/png": "[encoded data removed]"
     },
     "metadata": {},
     "output_type": "display_data"
    }
   ],
   "source": [
    "%%R -h 500\n",
    "\n",
    "jayhawk_df_pres <- jayhawk_df %>% \n",
    "    filter(type_simple=='House-G') # Filter data to polls in presidential general elections only\n",
    "# plot the `bias` variable, which shows how far away from the \n",
    "# actual result each poll's result was...\n",
    "ggplot(jayhawk_df_pres) +\n",
    "    aes(x=bias, y=year, color=bias>0, alpha=.05) + \n",
    "    geom_point() +\n",
    "    geom_vline(aes(xintercept=0), color='red')  +\n",
    "    labs(\n",
    "        title='Inaccuracy of polls in presidential elections',\n",
    "        subtitle=\"positive numbers = polls overestimated DEM support\\nnegative numbers= polls overestimated GOP support\"\n",
    "    ) + \n",
    "    theme(legend.position=\"none\")"
   ]
  },
  {
   "attachments": {},
   "cell_type": "markdown",
   "metadata": {},
   "source": [
    "Jayhawk Consulting only conducted 2 of the polls in the entire dataset. Both were for General House elections, in 2014 and 2018. Both were wrong and skewed Republican."
   ]
  },
  {
   "cell_type": "markdown",
   "metadata": {},
   "source": [
    "👉 **Fox News/Beacon Research/Shaw & Co. Research**"
   ]
  },
  {
   "cell_type": "code",
   "execution_count": 30,
   "metadata": {},
   "outputs": [],
   "source": [
    "%%R\n",
    "\n",
    "# make df with Fox news et al\n",
    "\n",
    "fox_df <- df %>% filter(pollster=='Fox News/Beacon Research/Shaw & Co. Research')\n"
   ]
  },
  {
   "cell_type": "code",
   "execution_count": 32,
   "metadata": {},
   "outputs": [
    {
     "data": {
      "image/png": "[encoded data removed]"
     },
     "metadata": {},
     "output_type": "display_data"
    }
   ],
   "source": [
    "%%R -h 500\n",
    "\n",
    "fox_df_pres <- fox_df %>% \n",
    "    filter(type_simple=='Pres-G') # Filter data to polls in presidential general elections only\n",
    "# plot the `bias` variable, which shows how far away from the \n",
    "# actual result each poll's result was...\n",
    "ggplot(fox_df_pres) +\n",
    "    aes(x=bias, y=year, color=bias>0, alpha=.05) + \n",
    "    geom_point() +\n",
    "    geom_vline(aes(xintercept=0), color='red')  +\n",
    "    labs(\n",
    "        title='Inaccuracy of polls in presidential elections',\n",
    "        subtitle=\"positive numbers = polls overestimated DEM support\\nnegative numbers= polls overestimated GOP support\"\n",
    "    ) + \n",
    "    theme(legend.position=\"none\")"
   ]
  },
  {
   "attachments": {},
   "cell_type": "markdown",
   "metadata": {},
   "source": [
    "In 2020 the Fox news poll skewed Democrat. It was relatively balanced in 2016."
   ]
  },
  {
   "cell_type": "markdown",
   "metadata": {},
   "source": [
    "👉 **Brown University**"
   ]
  },
  {
   "cell_type": "code",
   "execution_count": 33,
   "metadata": {},
   "outputs": [
    {
     "name": "stdout",
     "output_type": "stream",
     "text": [
      "# A tibble: 12 × 31\n",
      "   poll_id questio…¹ race_id  year race  locat…² type_…³ type_…⁴ polls…⁵ polls…⁶\n",
      "     <dbl>     <dbl>   <dbl> <dbl> <chr> <chr>   <chr>   <chr>   <chr>     <dbl>\n",
      " 1    7278      8927    7150  2000 2000… RI      Pres-P  Pres-D  Brown …      35\n",
      " 2   64034    117851    7152  2000 2000… VT      Pres-P  Pres-D  Brown …      35\n",
      " 3    6416      7883     845  2000 2000… RI      Pres-G  Pres-G  Brown …      35\n",
      " 4    6416     27199    1707  2000 2000… RI      Sen-G   Sen-G   Brown …      35\n",
      " 5   25424     88455    1409  2002 2002… RI      Gov-G   Gov-G   Brown …      35\n",
      " 6   25424     30664    1675  2002 2002… RI      Sen-G   Sen-G   Brown …      35\n",
      " 7   25424    117562    3067  2002 2002… RI-1    House-G House-G Brown …      35\n",
      " 8    2383      2964    7404  2008 2008… RI      Pres-P  Pres-D  Brown …      35\n",
      " 9   34002     41321    1239  2014 2014… RI      Gov-G   Gov-G   Brown …      35\n",
      "10   34316     42010    1239  2014 2014… RI      Gov-G   Gov-G   Brown …      35\n",
      "11   42727     62666    7643  2016 2016… RI      Pres-P  Pres-D  Brown …      35\n",
      "12   42727     62665    7644  2016 2016… RI      Pres-P  Pres-R  Brown …      35\n",
      "# … with 21 more variables: methodology <chr>, partisan <chr>, polldate <chr>,\n",
      "#   samplesize <dbl>, cand1_name <chr>, cand1_id <dbl>, cand1_party <chr>,\n",
      "#   cand1_pct <dbl>, cand2_name <chr>, cand2_id <dbl>, cand2_party <chr>,\n",
      "#   cand2_pct <dbl>, cand3_pct <dbl>, margin_poll <dbl>, electiondate <chr>,\n",
      "#   cand1_actual <dbl>, cand2_actual <dbl>, margin_actual <dbl>, bias <dbl>,\n",
      "#   rightcall <dbl>, comment <chr>, and abbreviated variable names\n",
      "#   ¹​question_id, ²​location, ³​type_simple, ⁴​type_detail, ⁵​pollster, …\n",
      "# ℹ Use `colnames()` to see all variable names\n"
     ]
    }
   ],
   "source": [
    "%%R\n",
    "\n",
    "# make df with Jawhawk \n",
    "\n",
    "brown_df <- df %>% filter(pollster=='Brown University')\n",
    "\n",
    "brown_df"
   ]
  },
  {
   "cell_type": "code",
   "execution_count": 37,
   "metadata": {},
   "outputs": [
    {
     "data": {
      "image/png": "[encoded data removed]"
     },
     "metadata": {},
     "output_type": "display_data"
    }
   ],
   "source": [
    "%%R -h 500\n",
    "\n",
    "# brown_df_pres <- brown_df %>% \n",
    "#     filter(type_simple=='Sen-G') # Filter data to polls in presidential general elections only\n",
    "# plot the `bias` variable, which shows how far away from the \n",
    "# actual result each poll's result was...\n",
    "ggplot(brown_df) +\n",
    "    aes(x=bias, y=year, color=bias>0, alpha=.05) + \n",
    "    geom_point() +\n",
    "    geom_vline(aes(xintercept=0), color='red')  +\n",
    "    labs(\n",
    "        title='Inaccuracy of polls in presidential elections',\n",
    "        subtitle=\"positive numbers = polls overestimated DEM support\\nnegative numbers= polls overestimated GOP support\"\n",
    "    ) + \n",
    "    theme(legend.position=\"none\")"
   ]
  },
  {
   "attachments": {},
   "cell_type": "markdown",
   "metadata": {},
   "source": [
    "We're not sure how to compare these because they are different types on elections."
   ]
  },
  {
   "cell_type": "markdown",
   "metadata": {},
   "source": [
    "👉 **American Research Group**"
   ]
  },
  {
   "cell_type": "code",
   "execution_count": null,
   "metadata": {},
   "outputs": [],
   "source": []
  },
  {
   "cell_type": "code",
   "execution_count": null,
   "metadata": {},
   "outputs": [],
   "source": []
  },
  {
   "cell_type": "markdown",
   "metadata": {},
   "source": [
    "### Question 2: Which pollsters are the most accurate? Which are the least accurate?"
   ]
  },
  {
   "cell_type": "markdown",
   "metadata": {},
   "source": [
    "👉 Which pollsters are the most accurate?"
   ]
  },
  {
   "cell_type": "code",
   "execution_count": null,
   "metadata": {},
   "outputs": [],
   "source": []
  },
  {
   "cell_type": "code",
   "execution_count": null,
   "metadata": {},
   "outputs": [],
   "source": []
  },
  {
   "cell_type": "code",
   "execution_count": null,
   "metadata": {},
   "outputs": [],
   "source": []
  },
  {
   "cell_type": "markdown",
   "metadata": {},
   "source": [
    "👉 Which are the least accurate?"
   ]
  },
  {
   "cell_type": "code",
   "execution_count": null,
   "metadata": {},
   "outputs": [],
   "source": []
  },
  {
   "cell_type": "code",
   "execution_count": null,
   "metadata": {},
   "outputs": [],
   "source": []
  },
  {
   "cell_type": "code",
   "execution_count": null,
   "metadata": {},
   "outputs": [],
   "source": []
  },
  {
   "cell_type": "markdown",
   "metadata": {},
   "source": [
    "### Question 2 Reflections"
   ]
  },
  {
   "cell_type": "markdown",
   "metadata": {},
   "source": [
    "👉 Write a summary paragraph explaining how you decided what constitutes “most accurate” and \"least accurate\"?\n"
   ]
  },
  {
   "cell_type": "code",
   "execution_count": null,
   "metadata": {},
   "outputs": [],
   "source": []
  },
  {
   "cell_type": "markdown",
   "metadata": {},
   "source": [
    "👉 In bullet point form, name **methodological choices** you made in the process of determining which pollsters were the most and least accurate.\n"
   ]
  },
  {
   "cell_type": "code",
   "execution_count": null,
   "metadata": {},
   "outputs": [],
   "source": []
  },
  {
   "cell_type": "markdown",
   "metadata": {},
   "source": [
    "👉 In bullet point form, list the **limitations** of your approach \n"
   ]
  },
  {
   "cell_type": "code",
   "execution_count": null,
   "metadata": {},
   "outputs": [],
   "source": []
  }
 ],
 "metadata": {
  "kernelspec": {
   "display_name": "Python 3",
   "language": "python",
   "name": "python3"
  },
  "language_info": {
   "codemirror_mode": {
    "name": "ipython",
    "version": 3
   },
   "file_extension": ".py",
   "mimetype": "text/x-python",
   "name": "python",
   "nbconvert_exporter": "python",
   "pygments_lexer": "ipython3",
   "version": "3.11.0rc2"
  },
  "vscode": {
   "interpreter": {
    "hash": "fe0c711aca5bf7c6cedcd19352a1a05a1084bba66d33e75f0bd7fcc1c5e9be77"
   }
  }
 },
 "nbformat": 4,
 "nbformat_minor": 4
}
