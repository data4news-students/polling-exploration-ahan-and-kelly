{
 "cells": [
  {
   "cell_type": "markdown",
   "metadata": {},
   "source": [
    "# Python and R"
   ]
  },
  {
   "cell_type": "code",
   "execution_count": 5,
   "metadata": {},
   "outputs": [
    {
     "name": "stdout",
     "output_type": "stream",
     "text": [
      "The rpy2.ipython extension is already loaded. To reload it, use:\n",
      "  %reload_ext rpy2.ipython\n",
      "The autoreload extension is already loaded. To reload it, use:\n",
      "  %reload_ext autoreload\n"
     ]
    }
   ],
   "source": [
    "%load_ext rpy2.ipython\n",
    "%load_ext autoreload\n",
    "%autoreload 2\n",
    "\n",
    "%matplotlib inline  \n",
    "from matplotlib import rcParams\n",
    "rcParams['figure.figsize'] = (16, 100)\n",
    "\n",
    "import warnings\n",
    "from rpy2.rinterface import RRuntimeWarning\n",
    "warnings.filterwarnings(\"ignore\") # Ignore all warnings\n",
    "# warnings.filterwarnings(\"ignore\", category=RRuntimeWarning) # Show some warnings\n",
    "\n",
    "import pandas as pd\n",
    "import numpy as np\n",
    "import matplotlib.pyplot as plt\n",
    "from IPython.display import display, HTML\n",
    "\n",
    "# show all columns on pandas dataframes\n",
    "pd.set_option('display.max_columns', None)\n"
   ]
  },
  {
   "cell_type": "code",
   "execution_count": 6,
   "metadata": {},
   "outputs": [
    {
     "data": {
      "application/javascript": "// Disable auto-scrolling\nIPython.OutputArea.prototype._should_scroll = function(lines) {\n    return false;\n}\n",
      "text/plain": [
       "<IPython.core.display.Javascript object>"
      ]
     },
     "metadata": {},
     "output_type": "display_data"
    }
   ],
   "source": [
    "%%javascript\n",
    "// Disable auto-scrolling\n",
    "IPython.OutputArea.prototype._should_scroll = function(lines) {\n",
    "    return false;\n",
    "}"
   ]
  },
  {
   "cell_type": "code",
   "execution_count": 7,
   "metadata": {},
   "outputs": [],
   "source": [
    "%%R\n",
    "\n",
    "# My commonly used R imports\n",
    "\n",
    "require('tidyverse')\n",
    "require('readr')\n"
   ]
  },
  {
   "cell_type": "markdown",
   "metadata": {},
   "source": [
    "\n",
    "# Read the data\n",
    "\n"
   ]
  },
  {
   "cell_type": "markdown",
   "metadata": {},
   "source": [
    "The cell below loads the data in python:"
   ]
  },
  {
   "cell_type": "code",
   "execution_count": 8,
   "metadata": {},
   "outputs": [
    {
     "data": {
      "text/html": [
       "<div>\n",
       "<style scoped>\n",
       "    .dataframe tbody tr th:only-of-type {\n",
       "        vertical-align: middle;\n",
       "    }\n",
       "\n",
       "    .dataframe tbody tr th {\n",
       "        vertical-align: top;\n",
       "    }\n",
       "\n",
       "    .dataframe thead th {\n",
       "        text-align: right;\n",
       "    }\n",
       "</style>\n",
       "<table border=\"1\" class=\"dataframe\">\n",
       "  <thead>\n",
       "    <tr style=\"text-align: right;\">\n",
       "      <th></th>\n",
       "      <th>poll_id</th>\n",
       "      <th>question_id</th>\n",
       "      <th>race_id</th>\n",
       "      <th>year</th>\n",
       "      <th>race</th>\n",
       "      <th>location</th>\n",
       "      <th>type_simple</th>\n",
       "      <th>type_detail</th>\n",
       "      <th>pollster</th>\n",
       "      <th>pollster_rating_id</th>\n",
       "      <th>methodology</th>\n",
       "      <th>partisan</th>\n",
       "      <th>polldate</th>\n",
       "      <th>samplesize</th>\n",
       "      <th>cand1_name</th>\n",
       "      <th>cand1_id</th>\n",
       "      <th>cand1_party</th>\n",
       "      <th>cand1_pct</th>\n",
       "      <th>cand2_name</th>\n",
       "      <th>cand2_id</th>\n",
       "      <th>cand2_party</th>\n",
       "      <th>cand2_pct</th>\n",
       "      <th>cand3_pct</th>\n",
       "      <th>margin_poll</th>\n",
       "      <th>electiondate</th>\n",
       "      <th>cand1_actual</th>\n",
       "      <th>cand2_actual</th>\n",
       "      <th>margin_actual</th>\n",
       "      <th>bias</th>\n",
       "      <th>rightcall</th>\n",
       "      <th>comment</th>\n",
       "    </tr>\n",
       "  </thead>\n",
       "  <tbody>\n",
       "    <tr>\n",
       "      <th>10009</th>\n",
       "      <td>71457</td>\n",
       "      <td>133838</td>\n",
       "      <td>6249</td>\n",
       "      <td>2020</td>\n",
       "      <td>2020_Pres-G_PA</td>\n",
       "      <td>PA</td>\n",
       "      <td>Pres-G</td>\n",
       "      <td>Pres-G</td>\n",
       "      <td>Rasmussen Reports/Pulse Opinion Research</td>\n",
       "      <td>277</td>\n",
       "      <td>IVR/Online</td>\n",
       "      <td>NaN</td>\n",
       "      <td>10/19/20</td>\n",
       "      <td>800.0</td>\n",
       "      <td>Joseph R. Biden Jr.</td>\n",
       "      <td>13256</td>\n",
       "      <td>DEM</td>\n",
       "      <td>50.0</td>\n",
       "      <td>Donald Trump</td>\n",
       "      <td>13254</td>\n",
       "      <td>REP</td>\n",
       "      <td>47.0</td>\n",
       "      <td>NaN</td>\n",
       "      <td>3.0</td>\n",
       "      <td>11/3/20</td>\n",
       "      <td>50.01</td>\n",
       "      <td>48.84</td>\n",
       "      <td>1.16</td>\n",
       "      <td>1.84</td>\n",
       "      <td>1.0</td>\n",
       "      <td>NaN</td>\n",
       "    </tr>\n",
       "    <tr>\n",
       "      <th>1281</th>\n",
       "      <td>25432</td>\n",
       "      <td>88142</td>\n",
       "      <td>1386</td>\n",
       "      <td>2002</td>\n",
       "      <td>2002_Gov-G_CO</td>\n",
       "      <td>CO</td>\n",
       "      <td>Gov-G</td>\n",
       "      <td>Gov-G</td>\n",
       "      <td>Ciruli Associates</td>\n",
       "      <td>51</td>\n",
       "      <td>Live Phone</td>\n",
       "      <td>NaN</td>\n",
       "      <td>10/22/02</td>\n",
       "      <td>400.0</td>\n",
       "      <td>Rollie Heath</td>\n",
       "      <td>12840</td>\n",
       "      <td>DEM</td>\n",
       "      <td>25.0</td>\n",
       "      <td>William F. Owens</td>\n",
       "      <td>12842</td>\n",
       "      <td>REP</td>\n",
       "      <td>62.0</td>\n",
       "      <td>NaN</td>\n",
       "      <td>-37.0</td>\n",
       "      <td>11/5/02</td>\n",
       "      <td>33.65</td>\n",
       "      <td>62.62</td>\n",
       "      <td>-28.97</td>\n",
       "      <td>-8.03</td>\n",
       "      <td>1.0</td>\n",
       "      <td>for Denver Post | 9News | KOAA-TV (Colorado)</td>\n",
       "    </tr>\n",
       "    <tr>\n",
       "      <th>9828</th>\n",
       "      <td>71240</td>\n",
       "      <td>133389</td>\n",
       "      <td>7820</td>\n",
       "      <td>2020</td>\n",
       "      <td>2020_Gov-G_MO</td>\n",
       "      <td>MO</td>\n",
       "      <td>Gov-G</td>\n",
       "      <td>Gov-G</td>\n",
       "      <td>Remington Research Group</td>\n",
       "      <td>279</td>\n",
       "      <td>IVR</td>\n",
       "      <td>NaN</td>\n",
       "      <td>10/15/20</td>\n",
       "      <td>1010.0</td>\n",
       "      <td>Nicole Galloway</td>\n",
       "      <td>13483</td>\n",
       "      <td>DEM</td>\n",
       "      <td>43.0</td>\n",
       "      <td>Mike Parson</td>\n",
       "      <td>13484</td>\n",
       "      <td>REP</td>\n",
       "      <td>51.0</td>\n",
       "      <td>2.0</td>\n",
       "      <td>-8.0</td>\n",
       "      <td>11/3/20</td>\n",
       "      <td>40.69</td>\n",
       "      <td>57.11</td>\n",
       "      <td>-16.41</td>\n",
       "      <td>8.41</td>\n",
       "      <td>1.0</td>\n",
       "      <td>for Missouri Scout</td>\n",
       "    </tr>\n",
       "    <tr>\n",
       "      <th>3015</th>\n",
       "      <td>64013</td>\n",
       "      <td>117815</td>\n",
       "      <td>3992</td>\n",
       "      <td>2006</td>\n",
       "      <td>2006_House-G_UT-3</td>\n",
       "      <td>UT-3</td>\n",
       "      <td>House-G</td>\n",
       "      <td>House-G</td>\n",
       "      <td>Dan Jones &amp; Associates</td>\n",
       "      <td>70</td>\n",
       "      <td>Live Phone</td>\n",
       "      <td>NaN</td>\n",
       "      <td>10/30/06</td>\n",
       "      <td>386.0</td>\n",
       "      <td>Christian Burridge</td>\n",
       "      <td>13884</td>\n",
       "      <td>DEM</td>\n",
       "      <td>27.0</td>\n",
       "      <td>Christopher Black Cannon</td>\n",
       "      <td>13885</td>\n",
       "      <td>REP</td>\n",
       "      <td>56.0</td>\n",
       "      <td>6.0</td>\n",
       "      <td>-29.0</td>\n",
       "      <td>11/7/06</td>\n",
       "      <td>32.24</td>\n",
       "      <td>57.71</td>\n",
       "      <td>-25.47</td>\n",
       "      <td>-3.53</td>\n",
       "      <td>1.0</td>\n",
       "      <td>NaN</td>\n",
       "    </tr>\n",
       "    <tr>\n",
       "      <th>1277</th>\n",
       "      <td>25391</td>\n",
       "      <td>117524</td>\n",
       "      <td>2959</td>\n",
       "      <td>2002</td>\n",
       "      <td>2002_House-G_NH-1</td>\n",
       "      <td>NH-1</td>\n",
       "      <td>House-G</td>\n",
       "      <td>House-G</td>\n",
       "      <td>American Research Group</td>\n",
       "      <td>9</td>\n",
       "      <td>Live Phone</td>\n",
       "      <td>NaN</td>\n",
       "      <td>10/21/02</td>\n",
       "      <td>300.0</td>\n",
       "      <td>Martha Fuller Clark</td>\n",
       "      <td>13798</td>\n",
       "      <td>DEM</td>\n",
       "      <td>39.0</td>\n",
       "      <td>Jeb E. Bradley</td>\n",
       "      <td>13799</td>\n",
       "      <td>REP</td>\n",
       "      <td>53.0</td>\n",
       "      <td>NaN</td>\n",
       "      <td>-14.0</td>\n",
       "      <td>11/5/02</td>\n",
       "      <td>38.48</td>\n",
       "      <td>58.11</td>\n",
       "      <td>-19.63</td>\n",
       "      <td>5.63</td>\n",
       "      <td>1.0</td>\n",
       "      <td>NaN</td>\n",
       "    </tr>\n",
       "  </tbody>\n",
       "</table>\n",
       "</div>"
      ],
      "text/plain": [
       "       poll_id  question_id  race_id  year               race location  \\\n",
       "10009    71457       133838     6249  2020     2020_Pres-G_PA       PA   \n",
       "1281     25432        88142     1386  2002      2002_Gov-G_CO       CO   \n",
       "9828     71240       133389     7820  2020      2020_Gov-G_MO       MO   \n",
       "3015     64013       117815     3992  2006  2006_House-G_UT-3     UT-3   \n",
       "1277     25391       117524     2959  2002  2002_House-G_NH-1     NH-1   \n",
       "\n",
       "      type_simple type_detail                                  pollster  \\\n",
       "10009      Pres-G      Pres-G  Rasmussen Reports/Pulse Opinion Research   \n",
       "1281        Gov-G       Gov-G                         Ciruli Associates   \n",
       "9828        Gov-G       Gov-G                  Remington Research Group   \n",
       "3015      House-G     House-G                    Dan Jones & Associates   \n",
       "1277      House-G     House-G                   American Research Group   \n",
       "\n",
       "       pollster_rating_id methodology partisan  polldate  samplesize  \\\n",
       "10009                 277  IVR/Online      NaN  10/19/20       800.0   \n",
       "1281                   51  Live Phone      NaN  10/22/02       400.0   \n",
       "9828                  279         IVR      NaN  10/15/20      1010.0   \n",
       "3015                   70  Live Phone      NaN  10/30/06       386.0   \n",
       "1277                    9  Live Phone      NaN  10/21/02       300.0   \n",
       "\n",
       "                cand1_name  cand1_id cand1_party  cand1_pct  \\\n",
       "10009  Joseph R. Biden Jr.     13256         DEM       50.0   \n",
       "1281          Rollie Heath     12840         DEM       25.0   \n",
       "9828       Nicole Galloway     13483         DEM       43.0   \n",
       "3015    Christian Burridge     13884         DEM       27.0   \n",
       "1277   Martha Fuller Clark     13798         DEM       39.0   \n",
       "\n",
       "                     cand2_name  cand2_id cand2_party  cand2_pct  cand3_pct  \\\n",
       "10009              Donald Trump     13254         REP       47.0        NaN   \n",
       "1281           William F. Owens     12842         REP       62.0        NaN   \n",
       "9828                Mike Parson     13484         REP       51.0        2.0   \n",
       "3015   Christopher Black Cannon     13885         REP       56.0        6.0   \n",
       "1277             Jeb E. Bradley     13799         REP       53.0        NaN   \n",
       "\n",
       "       margin_poll electiondate  cand1_actual  cand2_actual  margin_actual  \\\n",
       "10009          3.0      11/3/20         50.01         48.84           1.16   \n",
       "1281         -37.0      11/5/02         33.65         62.62         -28.97   \n",
       "9828          -8.0      11/3/20         40.69         57.11         -16.41   \n",
       "3015         -29.0      11/7/06         32.24         57.71         -25.47   \n",
       "1277         -14.0      11/5/02         38.48         58.11         -19.63   \n",
       "\n",
       "       bias  rightcall                                       comment  \n",
       "10009  1.84        1.0                                           NaN  \n",
       "1281  -8.03        1.0  for Denver Post | 9News | KOAA-TV (Colorado)  \n",
       "9828   8.41        1.0                            for Missouri Scout  \n",
       "3015  -3.53        1.0                                           NaN  \n",
       "1277   5.63        1.0                                           NaN  "
      ]
     },
     "execution_count": 8,
     "metadata": {},
     "output_type": "execute_result"
    }
   ],
   "source": [
    "df = pd.read_csv('raw-polls.csv')\n",
    "df.sample(5)"
   ]
  },
  {
   "cell_type": "markdown",
   "metadata": {},
   "source": [
    "The cell below loads the same data in R:"
   ]
  },
  {
   "cell_type": "code",
   "execution_count": 9,
   "metadata": {},
   "outputs": [
    {
     "name": "stdout",
     "output_type": "stream",
     "text": [
      "Rows: 10776 Columns: 31\n",
      "── Column specification ────────────────────────────────────────────────────────\n",
      "Delimiter: \",\"\n",
      "chr (14): race, location, type_simple, type_detail, pollster, methodology, p...\n",
      "dbl (17): poll_id, question_id, race_id, year, pollster_rating_id, samplesiz...\n",
      "\n",
      "ℹ Use `spec()` to retrieve the full column specification for this data.\n",
      "ℹ Specify the column types or set `show_col_types = FALSE` to quiet this message.\n",
      "# A tibble: 10,776 × 31\n",
      "   poll_id questio…¹ race_id  year race  locat…² type_…³ type_…⁴ polls…⁵ polls…⁶\n",
      "     <dbl>     <dbl>   <dbl> <dbl> <chr> <chr>   <chr>   <chr>   <chr>     <dbl>\n",
      " 1   26013     87909    1455  1998 1998… NY      Gov-G   Gov-G   Blum &…      32\n",
      " 2   26255     87926    1456  1998 1998… OH      Gov-G   Gov-G   Univer…     346\n",
      " 3   26026     31266    1736  1998 1998… NV      Sen-G   Sen-G   FM3 Re…      91\n",
      " 4   26013     31253    1738  1998 1998… NY      Sen-G   Sen-G   Blum &…      32\n",
      " 5   63632    117103    1738  1998 1998… NY      Sen-G   Sen-G   Garin-…     113\n",
      " 6   26255     31495    1741  1998 1998… OH      Sen-G   Sen-G   Univer…     346\n",
      " 7   64053    117875    1966  1998 1998… ID-1    House-G House-G Garin-…     113\n",
      " 8   64053    117876    1967  1998 1998… ID-2    House-G House-G Garin-…     113\n",
      " 9   28268     33546    8661  1998 1998… US      House-G House-G CBS Ne…      36\n",
      "10   28267     33545    8661  1998 1998… US      House-G House-G Zogby …     395\n",
      "# … with 10,766 more rows, 21 more variables: methodology <chr>,\n",
      "#   partisan <chr>, polldate <chr>, samplesize <dbl>, cand1_name <chr>,\n",
      "#   cand1_id <dbl>, cand1_party <chr>, cand1_pct <dbl>, cand2_name <chr>,\n",
      "#   cand2_id <dbl>, cand2_party <chr>, cand2_pct <dbl>, cand3_pct <dbl>,\n",
      "#   margin_poll <dbl>, electiondate <chr>, cand1_actual <dbl>,\n",
      "#   cand2_actual <dbl>, margin_actual <dbl>, bias <dbl>, rightcall <dbl>,\n",
      "#   comment <chr>, and abbreviated variable names ¹​question_id, ²​location, …\n",
      "# ℹ Use `print(n = ...)` to see more rows, and `colnames()` to see all variable names\n"
     ]
    }
   ],
   "source": [
    "%%R\n",
    "\n",
    "df <- read_csv('raw-polls.csv')\n",
    "\n",
    "df"
   ]
  },
  {
   "cell_type": "markdown",
   "metadata": {},
   "source": [
    "# Guided Exploration\n",
    "\n",
    "In this section you'll make a few charts to explore the data. Here I will raise some questions for you to dig around in the data and answer. You can use summary statistics and/or charts to help answer the questions. You will have to make some methodological choices along the way. Be aware of what choices you're making! I'll ask you about them shortly.\n",
    "\n",
    "\n",
    "## Question 1: How accurate are polls from the following pollsters?\n",
    "Characterize the accuracy of each of these pollsters in a sentence or two. Then, write another few sentences justifying your characterization with insights from the data.\n",
    "- Siena College/The New York Times Upshot\n",
    "- Jayhawk Consulting\n",
    "- Fox News/Beacon Research/Shaw & Co. Research\n",
    "- Brown University\n",
    "- American Research Group\n"
   ]
  },
  {
   "cell_type": "markdown",
   "metadata": {},
   "source": [
    "👉 **Siena College/The New York Times Upshot** "
   ]
  },
  {
   "cell_type": "code",
   "execution_count": 10,
   "metadata": {},
   "outputs": [
    {
     "name": "stdout",
     "output_type": "stream",
     "text": [
      "# A tibble: 83 × 31\n",
      "   poll_id questio…¹ race_id  year race  locat…² type_…³ type_…⁴ polls…⁵ polls…⁶\n",
      "     <dbl>     <dbl>   <dbl> <dbl> <chr> <chr>   <chr>   <chr>   <chr>     <dbl>\n",
      " 1   47325     74070      52  2016 2016… NC      Gov-G   Gov-G   Siena …     448\n",
      " 2   47325     74050      62  2016 2016… NC      Sen-G   Sen-G   Siena …     448\n",
      " 3   47325     74047     629  2016 2016… NC      Pres-G  Pres-G  Siena …     448\n",
      " 4   47551     74389      86  2016 2016… PA      Sen-G   Sen-G   Siena …     448\n",
      " 5   47551     74387     640  2016 2016… PA      Pres-G  Pres-G  Siena …     448\n",
      " 6   47771     74777      93  2016 2016… FL      Sen-G   Sen-G   Siena …     448\n",
      " 7   47771     74762     611  2016 2016… FL      Pres-G  Pres-G  Siena …     448\n",
      " 8   48524     76188      52  2016 2016… NC      Gov-G   Gov-G   Siena …     448\n",
      " 9   48524     76067      62  2016 2016… NC      Sen-G   Sen-G   Siena …     448\n",
      "10   48524     76066     629  2016 2016… NC      Pres-G  Pres-G  Siena …     448\n",
      "# … with 73 more rows, 21 more variables: methodology <chr>, partisan <chr>,\n",
      "#   polldate <chr>, samplesize <dbl>, cand1_name <chr>, cand1_id <dbl>,\n",
      "#   cand1_party <chr>, cand1_pct <dbl>, cand2_name <chr>, cand2_id <dbl>,\n",
      "#   cand2_party <chr>, cand2_pct <dbl>, cand3_pct <dbl>, margin_poll <dbl>,\n",
      "#   electiondate <chr>, cand1_actual <dbl>, cand2_actual <dbl>,\n",
      "#   margin_actual <dbl>, bias <dbl>, rightcall <dbl>, comment <chr>, and\n",
      "#   abbreviated variable names ¹​question_id, ²​location, ³​type_simple, …\n",
      "# ℹ Use `print(n = ...)` to see more rows, and `colnames()` to see all variable names\n"
     ]
    }
   ],
   "source": [
    "%%R\n",
    "\n",
    "# make df with Siena College and NYT Upshot\n",
    "\n",
    "siena_df <- df %>% filter(pollster=='Siena College/The New York Times Upshot')\n",
    "\n",
    "siena_df"
   ]
  },
  {
   "cell_type": "code",
   "execution_count": 11,
   "metadata": {},
   "outputs": [
    {
     "data": {
      "image/png": "[encoded data removed]"
     },
     "metadata": {},
     "output_type": "display_data"
    }
   ],
   "source": [
    "%%R -h 500\n",
    "\n",
    "siena_df_pres_general <- siena_df %>% \n",
    "    filter(type_simple=='Pres-G') # Filter data to polls in presidential general elections only\n",
    "# plot the `bias` variable, which shows how far away from the \n",
    "# actual result each poll's result was...\n",
    "ggplot(siena_df_pres_general) +\n",
    "    aes(x=bias, y=year, color=bias>0, alpha=.05) + \n",
    "    geom_point() +\n",
    "    geom_vline(aes(xintercept=0), color='red')  +\n",
    "    labs(\n",
    "        title='Inaccuracy of polls in presidential elections',\n",
    "        subtitle=\"positive numbers = polls overestimated DEM support\\negative numbers= polls overestimated GOP support\"\n",
    "    ) + \n",
    "    theme(legend.position=\"none\")\n"
   ]
  },
  {
   "attachments": {},
   "cell_type": "markdown",
   "metadata": {},
   "source": [
    " The Upshot's Presidential polls leaned further Democrat in 2020 and 2016"
   ]
  },
  {
   "cell_type": "code",
   "execution_count": 12,
   "metadata": {},
   "outputs": [
    {
     "data": {
      "image/png": "[encoded data removed]"
     },
     "metadata": {},
     "output_type": "display_data"
    }
   ],
   "source": [
    "%%R\n",
    "# a basic histogram\n",
    "ggplot(siena_df) +\n",
    "    aes(x=bias) +\n",
    "    geom_histogram(bins=30) +\n",
    "    geom_vline(aes(xintercept=0), color='red') +\n",
    "    labs(\n",
    "        title='Inaccuracy of polls in presidential elections',\n",
    "        subtitle=\"positive numbers = polls overestimated DEM support\\negative numbers= polls overestimated GOP support\",\n",
    "        )"
   ]
  },
  {
   "cell_type": "code",
   "execution_count": 13,
   "metadata": {},
   "outputs": [
    {
     "name": "stdout",
     "output_type": "stream",
     "text": [
      "   Min. 1st Qu.  Median    Mean 3rd Qu.    Max.    NA's \n",
      "-15.010  -2.075   1.515   1.423   5.125  11.200       1 \n"
     ]
    }
   ],
   "source": [
    "%%R \n",
    "\n",
    "siena_df$bias  %>% summary()\n",
    "\n",
    "# slight democrat bias"
   ]
  },
  {
   "cell_type": "markdown",
   "metadata": {},
   "source": [
    "👉 **Jayhawk Consulting**"
   ]
  },
  {
   "cell_type": "code",
   "execution_count": 14,
   "metadata": {},
   "outputs": [
    {
     "name": "stdout",
     "output_type": "stream",
     "text": [
      "# A tibble: 2 × 31\n",
      "  poll_id question…¹ race_id  year race  locat…² type_…³ type_…⁴ polls…⁵ polls…⁶\n",
      "    <dbl>      <dbl>   <dbl> <dbl> <chr> <chr>   <chr>   <chr>   <chr>     <dbl>\n",
      "1   36081      49015    5495  2014 2014… KS-1    House-G House-G Jayhaw…     157\n",
      "2   56550      90986     330  2018 2018… KS-1    House-G House-G Jayhaw…     157\n",
      "# … with 21 more variables: methodology <chr>, partisan <chr>, polldate <chr>,\n",
      "#   samplesize <dbl>, cand1_name <chr>, cand1_id <dbl>, cand1_party <chr>,\n",
      "#   cand1_pct <dbl>, cand2_name <chr>, cand2_id <dbl>, cand2_party <chr>,\n",
      "#   cand2_pct <dbl>, cand3_pct <dbl>, margin_poll <dbl>, electiondate <chr>,\n",
      "#   cand1_actual <dbl>, cand2_actual <dbl>, margin_actual <dbl>, bias <dbl>,\n",
      "#   rightcall <dbl>, comment <chr>, and abbreviated variable names\n",
      "#   ¹​question_id, ²​location, ³​type_simple, ⁴​type_detail, ⁵​pollster, …\n",
      "# ℹ Use `colnames()` to see all variable names\n"
     ]
    }
   ],
   "source": [
    "%%R\n",
    "\n",
    "# make df with Jawhawk \n",
    "\n",
    "jayhawk_df <- df %>% filter(pollster=='Jayhawk Consulting Services')\n",
    "\n",
    "jayhawk_df"
   ]
  },
  {
   "cell_type": "code",
   "execution_count": 15,
   "metadata": {},
   "outputs": [
    {
     "data": {
      "image/png": "[encoded data removed]"
     },
     "metadata": {},
     "output_type": "display_data"
    }
   ],
   "source": [
    "%%R -h 500\n",
    "\n",
    "jayhawk_df_pres <- jayhawk_df %>% \n",
    "    filter(type_simple=='House-G') # Filter data to polls in presidential general elections only\n",
    "# plot the `bias` variable, which shows how far away from the \n",
    "# actual result each poll's result was...\n",
    "ggplot(jayhawk_df_pres) +\n",
    "    aes(x=bias, y=year, color=bias>0, alpha=.05) + \n",
    "    geom_point() +\n",
    "    geom_vline(aes(xintercept=0), color='red')  +\n",
    "    labs(\n",
    "        title='Inaccuracy of polls in presidential elections',\n",
    "        subtitle=\"positive numbers = polls overestimated DEM support\\negative numbers= polls overestimated GOP support\"\n",
    "    ) + \n",
    "    theme(legend.position=\"none\")"
   ]
  },
  {
   "attachments": {},
   "cell_type": "markdown",
   "metadata": {},
   "source": [
    "Jayhawk Consulting only conducted 2 of the polls in the entire dataset. Both were for General House elections, in 2014 and 2018. Both were wrong and skewed Republican."
   ]
  },
  {
   "cell_type": "markdown",
   "metadata": {},
   "source": [
    "👉 **Fox News/Beacon Research/Shaw & Co. Research**"
   ]
  },
  {
   "cell_type": "code",
   "execution_count": 16,
   "metadata": {},
   "outputs": [],
   "source": [
    "%%R\n",
    "\n",
    "# make df with Fox news et al\n",
    "\n",
    "fox_df <- df %>% filter(pollster=='Fox News/Beacon Research/Shaw & Co. Research')\n"
   ]
  },
  {
   "cell_type": "code",
   "execution_count": 17,
   "metadata": {},
   "outputs": [
    {
     "data": {
      "image/png": "[encoded data removed]"
     },
     "metadata": {},
     "output_type": "display_data"
    }
   ],
   "source": [
    "%%R -h 500\n",
    "\n",
    "fox_df_pres <- fox_df %>% \n",
    "    filter(type_simple=='Pres-G') # Filter data to polls in presidential general elections only\n",
    "# plot the `bias` variable, which shows how far away from the \n",
    "# actual result each poll's result was...\n",
    "ggplot(fox_df_pres) +\n",
    "    aes(x=bias, y=factor(year), color=bias>0, alpha=.05) + \n",
    "    geom_point() +\n",
    "    geom_vline(aes(xintercept=0), color='red')  +\n",
    "    labs(\n",
    "        title='Inaccuracy of polls in presidential elections',\n",
    "        subtitle=\"positive numbers = polls overestimated DEM support\\negative numbers= polls overestimated GOP support\"\n",
    "    ) + \n",
    "    theme(legend.position=\"none\")"
   ]
  },
  {
   "attachments": {},
   "cell_type": "markdown",
   "metadata": {},
   "source": [
    "In 2020 the Fox news poll skewed Democrat. It was relatively balanced in 2016."
   ]
  },
  {
   "cell_type": "markdown",
   "metadata": {},
   "source": [
    "👉 **Brown University**"
   ]
  },
  {
   "cell_type": "code",
   "execution_count": 18,
   "metadata": {},
   "outputs": [
    {
     "name": "stdout",
     "output_type": "stream",
     "text": [
      "# A tibble: 12 × 31\n",
      "   poll_id questio…¹ race_id  year race  locat…² type_…³ type_…⁴ polls…⁵ polls…⁶\n",
      "     <dbl>     <dbl>   <dbl> <dbl> <chr> <chr>   <chr>   <chr>   <chr>     <dbl>\n",
      " 1    7278      8927    7150  2000 2000… RI      Pres-P  Pres-D  Brown …      35\n",
      " 2   64034    117851    7152  2000 2000… VT      Pres-P  Pres-D  Brown …      35\n",
      " 3    6416      7883     845  2000 2000… RI      Pres-G  Pres-G  Brown …      35\n",
      " 4    6416     27199    1707  2000 2000… RI      Sen-G   Sen-G   Brown …      35\n",
      " 5   25424     88455    1409  2002 2002… RI      Gov-G   Gov-G   Brown …      35\n",
      " 6   25424     30664    1675  2002 2002… RI      Sen-G   Sen-G   Brown …      35\n",
      " 7   25424    117562    3067  2002 2002… RI-1    House-G House-G Brown …      35\n",
      " 8    2383      2964    7404  2008 2008… RI      Pres-P  Pres-D  Brown …      35\n",
      " 9   34002     41321    1239  2014 2014… RI      Gov-G   Gov-G   Brown …      35\n",
      "10   34316     42010    1239  2014 2014… RI      Gov-G   Gov-G   Brown …      35\n",
      "11   42727     62666    7643  2016 2016… RI      Pres-P  Pres-D  Brown …      35\n",
      "12   42727     62665    7644  2016 2016… RI      Pres-P  Pres-R  Brown …      35\n",
      "# … with 21 more variables: methodology <chr>, partisan <chr>, polldate <chr>,\n",
      "#   samplesize <dbl>, cand1_name <chr>, cand1_id <dbl>, cand1_party <chr>,\n",
      "#   cand1_pct <dbl>, cand2_name <chr>, cand2_id <dbl>, cand2_party <chr>,\n",
      "#   cand2_pct <dbl>, cand3_pct <dbl>, margin_poll <dbl>, electiondate <chr>,\n",
      "#   cand1_actual <dbl>, cand2_actual <dbl>, margin_actual <dbl>, bias <dbl>,\n",
      "#   rightcall <dbl>, comment <chr>, and abbreviated variable names\n",
      "#   ¹​question_id, ²​location, ³​type_simple, ⁴​type_detail, ⁵​pollster, …\n",
      "# ℹ Use `colnames()` to see all variable names\n"
     ]
    }
   ],
   "source": [
    "%%R\n",
    "\n",
    "# make df with Jawhawk \n",
    "\n",
    "brown_df <- df %>% filter(pollster=='Brown University')\n",
    "\n",
    "brown_df"
   ]
  },
  {
   "cell_type": "code",
   "execution_count": 19,
   "metadata": {},
   "outputs": [
    {
     "data": {
      "image/png": "[encoded data removed]"
     },
     "metadata": {},
     "output_type": "display_data"
    }
   ],
   "source": [
    "%%R -h 500\n",
    "\n",
    "# brown_df_pres <- brown_df %>% \n",
    "#     filter(type_simple=='Sen-G') # Filter data to polls in presidential general elections only\n",
    "# plot the `bias` variable, which shows how far away from the \n",
    "# actual result each poll's result was...\n",
    "ggplot(brown_df) +\n",
    "    aes(x=bias, y=year, color=bias>0, alpha=.05) + \n",
    "    geom_point() +\n",
    "    geom_vline(aes(xintercept=0), color='red')  +\n",
    "    labs(\n",
    "        title='Inaccuracy of polls in presidential elections',\n",
    "        subtitle=\"positive numbers = polls overestimated DEM support\\negative numbers= polls overestimated GOP support\"\n",
    "    ) + \n",
    "    theme(legend.position=\"none\")"
   ]
  },
  {
   "attachments": {},
   "cell_type": "markdown",
   "metadata": {},
   "source": [
    "We're not sure how to compare these because they are different types on elections."
   ]
  },
  {
   "cell_type": "markdown",
   "metadata": {},
   "source": [
    "👉 **American Research Group**"
   ]
  },
  {
   "cell_type": "code",
   "execution_count": 21,
   "metadata": {},
   "outputs": [
    {
     "name": "stdout",
     "output_type": "stream",
     "text": [
      "# A tibble: 277 × 31\n",
      "   poll_id questio…¹ race_id  year race  locat…² type_…³ type_…⁴ polls…⁵ polls…⁶\n",
      "     <dbl>     <dbl>   <dbl> <dbl> <chr> <chr>   <chr>   <chr>   <chr>     <dbl>\n",
      " 1    7384      9127    7115  2000 2000… NH      Pres-P  Pres-D  Americ…       9\n",
      " 2    7384      9129    7116  2000 2000… NH      Pres-P  Pres-R  Americ…       9\n",
      " 3    7357      9084    7115  2000 2000… NH      Pres-P  Pres-D  Americ…       9\n",
      " 4    7357      9087    7116  2000 2000… NH      Pres-P  Pres-R  Americ…       9\n",
      " 5    7345      9062    7120  2000 2000… SC      Pres-P  Pres-R  Americ…       9\n",
      " 6   64009    117810    7120  2000 2000… SC      Pres-P  Pres-R  Americ…       9\n",
      " 7    7299      8967    7120  2000 2000… SC      Pres-P  Pres-R  Americ…       9\n",
      " 8   64022    117826    7122  2000 2000… MI      Pres-P  Pres-R  Americ…       9\n",
      " 9   64027    117832    7126  2000 2000… VA      Pres-P  Pres-R  Americ…       9\n",
      "10   64039    117857    7133  2000 2000… GA      Pres-P  Pres-R  Americ…       9\n",
      "# … with 267 more rows, 21 more variables: methodology <chr>, partisan <chr>,\n",
      "#   polldate <chr>, samplesize <dbl>, cand1_name <chr>, cand1_id <dbl>,\n",
      "#   cand1_party <chr>, cand1_pct <dbl>, cand2_name <chr>, cand2_id <dbl>,\n",
      "#   cand2_party <chr>, cand2_pct <dbl>, cand3_pct <dbl>, margin_poll <dbl>,\n",
      "#   electiondate <chr>, cand1_actual <dbl>, cand2_actual <dbl>,\n",
      "#   margin_actual <dbl>, bias <dbl>, rightcall <dbl>, comment <chr>, and\n",
      "#   abbreviated variable names ¹​question_id, ²​location, ³​type_simple, …\n",
      "# ℹ Use `print(n = ...)` to see more rows, and `colnames()` to see all variable names\n"
     ]
    }
   ],
   "source": [
    "%%R\n",
    "\n",
    "# make df with American Research Group \n",
    "\n",
    "arg_df <- df %>% filter(pollster=='American Research Group')\n",
    "\n",
    "arg_df"
   ]
  },
  {
   "cell_type": "code",
   "execution_count": 26,
   "metadata": {},
   "outputs": [
    {
     "data": {
      "image/png": "[encoded data removed]"
     },
     "metadata": {},
     "output_type": "display_data"
    }
   ],
   "source": [
    "%%R -h 500\n",
    "\n",
    "arg_df_pres <- arg_df %>% \n",
    "    filter(type_simple=='Pres-G') # Filter data to polls in presidential general elections only\n",
    "# plot the `bias` variable, which shows how far away from the \n",
    "# actual result each poll's result was...\n",
    "ggplot(arg_df_pres) +\n",
    "    aes(x=bias, y=factor(year), color=bias>0, alpha=.05) + \n",
    "    geom_point() +\n",
    "    geom_vline(aes(xintercept=0), color='red')  +\n",
    "    labs(\n",
    "        title='Inaccuracy of polls in presidential elections',\n",
    "        subtitle=\"positive numbers = polls overestimated DEM support\\negative numbers= polls overestimated GOP support\"\n",
    "    ) + \n",
    "    theme(legend.position=\"none\")"
   ]
  },
  {
   "attachments": {},
   "cell_type": "markdown",
   "metadata": {},
   "source": [
    "The American Research Group polls have skewed Democrat in every presidential election bar 2012, when Obama was relected. "
   ]
  },
  {
   "cell_type": "code",
   "execution_count": null,
   "metadata": {},
   "outputs": [],
   "source": []
  },
  {
   "cell_type": "markdown",
   "metadata": {},
   "source": [
    "### Question 2: Which pollsters are the most accurate? Which are the least accurate?"
   ]
  },
  {
   "cell_type": "markdown",
   "metadata": {},
   "source": [
    "👉 Which pollsters are the most accurate?"
   ]
  },
  {
   "cell_type": "code",
   "execution_count": 32,
   "metadata": {},
   "outputs": [
    {
     "data": {
      "text/html": [
       "<div>\n",
       "<style scoped>\n",
       "    .dataframe tbody tr th:only-of-type {\n",
       "        vertical-align: middle;\n",
       "    }\n",
       "\n",
       "    .dataframe tbody tr th {\n",
       "        vertical-align: top;\n",
       "    }\n",
       "\n",
       "    .dataframe thead tr th {\n",
       "        text-align: left;\n",
       "    }\n",
       "\n",
       "    .dataframe thead tr:last-of-type th {\n",
       "        text-align: right;\n",
       "    }\n",
       "</style>\n",
       "<table border=\"1\" class=\"dataframe\">\n",
       "  <thead>\n",
       "    <tr>\n",
       "      <th></th>\n",
       "      <th colspan=\"4\" halign=\"left\">bias</th>\n",
       "    </tr>\n",
       "    <tr>\n",
       "      <th></th>\n",
       "      <th>mean</th>\n",
       "      <th>median</th>\n",
       "      <th>std</th>\n",
       "      <th>count</th>\n",
       "    </tr>\n",
       "    <tr>\n",
       "      <th>pollster</th>\n",
       "      <th></th>\n",
       "      <th></th>\n",
       "      <th></th>\n",
       "      <th></th>\n",
       "    </tr>\n",
       "  </thead>\n",
       "  <tbody>\n",
       "    <tr>\n",
       "      <th>1892 Polling</th>\n",
       "      <td>-0.610000</td>\n",
       "      <td>-0.61</td>\n",
       "      <td>NaN</td>\n",
       "      <td>1</td>\n",
       "    </tr>\n",
       "    <tr>\n",
       "      <th>20/20 Insight</th>\n",
       "      <td>2.938000</td>\n",
       "      <td>2.13</td>\n",
       "      <td>3.211880</td>\n",
       "      <td>5</td>\n",
       "    </tr>\n",
       "    <tr>\n",
       "      <th>A&amp;A Research</th>\n",
       "      <td>-10.040000</td>\n",
       "      <td>-10.04</td>\n",
       "      <td>NaN</td>\n",
       "      <td>1</td>\n",
       "    </tr>\n",
       "    <tr>\n",
       "      <th>ABC News/The Washington Post</th>\n",
       "      <td>1.256234</td>\n",
       "      <td>0.99</td>\n",
       "      <td>3.804725</td>\n",
       "      <td>77</td>\n",
       "    </tr>\n",
       "    <tr>\n",
       "      <th>ALG Research</th>\n",
       "      <td>3.297000</td>\n",
       "      <td>3.60</td>\n",
       "      <td>7.038651</td>\n",
       "      <td>20</td>\n",
       "    </tr>\n",
       "    <tr>\n",
       "      <th>...</th>\n",
       "      <td>...</td>\n",
       "      <td>...</td>\n",
       "      <td>...</td>\n",
       "      <td>...</td>\n",
       "    </tr>\n",
       "    <tr>\n",
       "      <th>Zimmerman &amp; Associates/Marketing Intelligence</th>\n",
       "      <td>3.233333</td>\n",
       "      <td>5.34</td>\n",
       "      <td>4.707880</td>\n",
       "      <td>3</td>\n",
       "    </tr>\n",
       "    <tr>\n",
       "      <th>Zogby Interactive/JZ Analytics</th>\n",
       "      <td>-0.781237</td>\n",
       "      <td>0.01</td>\n",
       "      <td>6.792215</td>\n",
       "      <td>380</td>\n",
       "    </tr>\n",
       "    <tr>\n",
       "      <th>brilliant corners Research &amp; Strategies</th>\n",
       "      <td>12.270000</td>\n",
       "      <td>12.27</td>\n",
       "      <td>NaN</td>\n",
       "      <td>1</td>\n",
       "    </tr>\n",
       "    <tr>\n",
       "      <th>ccAdvertising</th>\n",
       "      <td>-5.548182</td>\n",
       "      <td>-6.05</td>\n",
       "      <td>7.713925</td>\n",
       "      <td>33</td>\n",
       "    </tr>\n",
       "    <tr>\n",
       "      <th>co/efficient</th>\n",
       "      <td>-0.676000</td>\n",
       "      <td>-0.56</td>\n",
       "      <td>3.431542</td>\n",
       "      <td>5</td>\n",
       "    </tr>\n",
       "  </tbody>\n",
       "</table>\n",
       "<p>493 rows × 4 columns</p>\n",
       "</div>"
      ],
      "text/plain": [
       "                                                    bias                   \\\n",
       "                                                    mean median       std   \n",
       "pollster                                                                    \n",
       "1892 Polling                                   -0.610000  -0.61       NaN   \n",
       "20/20 Insight                                   2.938000   2.13  3.211880   \n",
       "A&A Research                                  -10.040000 -10.04       NaN   \n",
       "ABC News/The Washington Post                    1.256234   0.99  3.804725   \n",
       "ALG Research                                    3.297000   3.60  7.038651   \n",
       "...                                                  ...    ...       ...   \n",
       "Zimmerman & Associates/Marketing Intelligence   3.233333   5.34  4.707880   \n",
       "Zogby Interactive/JZ Analytics                 -0.781237   0.01  6.792215   \n",
       "brilliant corners Research & Strategies        12.270000  12.27       NaN   \n",
       "ccAdvertising                                  -5.548182  -6.05  7.713925   \n",
       "co/efficient                                   -0.676000  -0.56  3.431542   \n",
       "\n",
       "                                                     \n",
       "                                              count  \n",
       "pollster                                             \n",
       "1892 Polling                                      1  \n",
       "20/20 Insight                                     5  \n",
       "A&A Research                                      1  \n",
       "ABC News/The Washington Post                     77  \n",
       "ALG Research                                     20  \n",
       "...                                             ...  \n",
       "Zimmerman & Associates/Marketing Intelligence     3  \n",
       "Zogby Interactive/JZ Analytics                  380  \n",
       "brilliant corners Research & Strategies           1  \n",
       "ccAdvertising                                    33  \n",
       "co/efficient                                      5  \n",
       "\n",
       "[493 rows x 4 columns]"
      ]
     },
     "execution_count": 32,
     "metadata": {},
     "output_type": "execute_result"
    }
   ],
   "source": [
    "df.groupby(\"pollster\").agg({\"bias\": [\"mean\", \"median\", \"std\", \"count\"]})"
   ]
  },
  {
   "cell_type": "code",
   "execution_count": null,
   "metadata": {},
   "outputs": [],
   "source": []
  },
  {
   "cell_type": "code",
   "execution_count": null,
   "metadata": {},
   "outputs": [],
   "source": []
  },
  {
   "cell_type": "markdown",
   "metadata": {},
   "source": [
    "👉 Which are the least accurate?"
   ]
  },
  {
   "cell_type": "code",
   "execution_count": null,
   "metadata": {},
   "outputs": [],
   "source": []
  },
  {
   "cell_type": "code",
   "execution_count": null,
   "metadata": {},
   "outputs": [],
   "source": []
  },
  {
   "cell_type": "code",
   "execution_count": null,
   "metadata": {},
   "outputs": [],
   "source": []
  },
  {
   "cell_type": "markdown",
   "metadata": {},
   "source": [
    "### Question 2 Reflections"
   ]
  },
  {
   "cell_type": "markdown",
   "metadata": {},
   "source": [
    "👉 Write a summary paragraph explaining how you decided what constitutes “most accurate” and \"least accurate\"?\n"
   ]
  },
  {
   "cell_type": "code",
   "execution_count": null,
   "metadata": {},
   "outputs": [],
   "source": []
  },
  {
   "cell_type": "markdown",
   "metadata": {},
   "source": [
    "👉 In bullet point form, name **methodological choices** you made in the process of determining which pollsters were the most and least accurate.\n"
   ]
  },
  {
   "cell_type": "code",
   "execution_count": null,
   "metadata": {},
   "outputs": [],
   "source": []
  },
  {
   "cell_type": "markdown",
   "metadata": {},
   "source": [
    "👉 In bullet point form, list the **limitations** of your approach \n"
   ]
  },
  {
   "cell_type": "code",
   "execution_count": null,
   "metadata": {},
   "outputs": [],
   "source": []
  }
 ],
 "metadata": {
  "kernelspec": {
   "display_name": "Python 3",
   "language": "python",
   "name": "python3"
  },
  "language_info": {
   "codemirror_mode": {
    "name": "ipython",
    "version": 3
   },
   "file_extension": ".py",
   "mimetype": "text/x-python",
   "name": "python",
   "nbconvert_exporter": "python",
   "pygments_lexer": "ipython3",
   "version": "3.11.0rc2 (main, Oct 27 2022, 09:15:43) [Clang 13.1.6 (clang-1316.0.21.2.5)]"
  },
  "vscode": {
   "interpreter": {
    "hash": "fe0c711aca5bf7c6cedcd19352a1a05a1084bba66d33e75f0bd7fcc1c5e9be77"
   }
  }
 },
 "nbformat": 4,
 "nbformat_minor": 4
}
